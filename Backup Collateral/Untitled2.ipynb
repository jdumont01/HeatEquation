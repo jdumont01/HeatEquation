{
 "cells": [
  {
   "cell_type": "markdown",
   "metadata": {},
   "source": [
    "$$\\therefore$$\n",
    "$$R(\\rho) = \\rho^{-\\frac{1}{2}} \\left( a_0 \\cos(\\rho) + a_1 \\sin(\\rho) \\right)$$\n",
    "Bessel functions of order $\\pm \\frac{1}{2}$\n",
    "$$J_{-\\frac{1}{2}} (\\rho) = \\sqrt{\\frac{2}{\\pi \\cdot \\rho}} \\cos(\\rho)$$\n",
    "$$J_{\\frac{1}{2}} (\\rho) = \\sqrt{\\frac{2}{\\pi \\cdot \\rho}} \\sin(\\rho)$$\n",
    "$$\\therefore$$\n",
    "$$R(\\rho) = a'_0 J_{-\\frac{1}{2}} (\\rho) + a'_1 J_{\\frac{1}{2}} (\\rho)$$"
   ]
  },
  {
   "cell_type": "code",
   "execution_count": null,
   "metadata": {},
   "outputs": [],
   "source": []
  },
  {
   "cell_type": "code",
   "execution_count": null,
   "metadata": {},
   "outputs": [],
   "source": []
  }
 ],
 "metadata": {
  "kernelspec": {
   "display_name": "Python 3",
   "language": "python",
   "name": "python3"
  },
  "language_info": {
   "codemirror_mode": {
    "name": "ipython",
    "version": 3
   },
   "file_extension": ".py",
   "mimetype": "text/x-python",
   "name": "python",
   "nbconvert_exporter": "python",
   "pygments_lexer": "ipython3",
   "version": "3.6.2"
  }
 },
 "nbformat": 4,
 "nbformat_minor": 2
}
