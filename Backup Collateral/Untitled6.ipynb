{
 "cells": [
  {
   "cell_type": "code",
   "execution_count": null,
   "id": "2f7e63b1",
   "metadata": {
    "ExecuteTime": {
     "end_time": "2021-07-19T23:29:01.580642Z",
     "start_time": "2021-07-19T23:28:57.276Z"
    }
   },
   "outputs": [],
   "source": [
    "%matplotlib inline\n",
    "import matplotlib.pyplot as plt\n",
    "import numpy as np\n",
    "import seaborn as sns\n",
    "from scipy.integrate import odeint\n",
    "\n",
    "from matplotlib import animation\n",
    "from IPython.display import HTML\n",
    "\n",
    "# mode parameteres\n",
    "Ea  = 72750     # activation energy J/gmol\n",
    "R   = 8.314     # gas constant J/gmol/K\n",
    "k0  = 7.2e10    # Arrhenius rate constant 1/min\n",
    "V   = 100.0     # Volume [L]\n",
    "rho = 1000.0    # Density [g/L]\n",
    "Cp  = 0.239     # Heat capacity [J/g/K]\n",
    "dHr = -5.0e4    # Enthalpy of reaction [J/mol]\n",
    "UA  = 5.0e4     # Heat transfer [J/min/K]\n",
    "q = 100.0       # Flowrate [L/min]\n",
    "cAi = 1.0       # Inlet feed concentration [mol/L]\n",
    "Ti  = 350.0     # Inlet feed temperature [K]\n",
    "cA0 = 0.5;      # Initial concentration [mol/L]\n",
    "T0  = 350.0;    # Initial temperature [K]\n",
    "Tc  = 305.0     # Coolant temperature [K]\n",
    "\n",
    "# Arrhenius rate expression\n",
    "def k(T):\n",
    "    return k0*np.exp(-Ea/R/T)\n",
    "\n",
    "def deriv(y,t):\n",
    "    cA,T = y\n",
    "    dcA = (q/V)*(cAi - cA) - k(T)*cA\n",
    "    dT = (q/V)*(Ti - T) + (-dHr/rho/Cp)*k(T)*cA + (UA/V/rho/Cp)*(Tc-T)\n",
    "    return [dcA,dT]\n",
    "\n",
    "# create a set of initial conditions\n",
    "ICs = [[cA0,T0] for cA0 in [0] for T0 in np.linspace(295,480,19)]\n",
    "ICs += [[cA0,T0] for cA0 in np.linspace(0,1,21) for T0 in [290]]\n",
    "ICs += [[cA0,T0] for cA0 in [1] for T0 in np.linspace(295,475,18)]\n",
    "\n",
    "# perform simulations for each of the initial conditions\n",
    "t = np.linspace(0,10.0,800)\n",
    "sols = [odeint(deriv,IC,t) for IC in ICs]\n",
    "\n",
    "# create background figure and axes\n",
    "sns.set(font_scale=1.5)\n",
    "fig, ax = plt.subplots(figsize=(8,8))\n",
    "ax.set_xlim((0,1))\n",
    "ax.set_ylim((290,480))\n",
    "ax.set_xlabel('Concentration [gmol/liter]')\n",
    "ax.set_ylabel('Temperature [K]')\n",
    "ax.set_title('Exothermic Reactor with Tc = {0:.1f} K'.format(Tc))\n",
    "\n",
    "# create lists of colors, points, and lines\n",
    "colors = sns.color_palette(\"husl\",len(sols))\n",
    "pts = sum([ax.plot([],[],'o',color=colors[k],ms=15) for k in range(0,len(sols))],[])\n",
    "lines = sum([ax.plot([],[],color=colors[k],lw=2) for k in range(0,len(sols))],[])\n",
    "\n",
    "# don't show the plain background\n",
    "plt.close()\n",
    "\n",
    "# define function to draw each frame\n",
    "def drawframe(n):\n",
    "    for k in range(0,len(sols)):\n",
    "        C,T = sols[k].T\n",
    "        pts[k].set_data(C[n],T[n])\n",
    "        lines[k].set_data(C[:n],T[:n])\n",
    "    return pts + lines\n",
    "\n",
    "# create animiation object and render in HTML video\n",
    "anim = animation.FuncAnimation(fig, drawframe, frames=len(t), interval=20, blit=True)\n",
    "HTML(anim.to_html5_video())"
   ]
  },
  {
   "cell_type": "code",
   "execution_count": null,
   "id": "f06dd0f9",
   "metadata": {},
   "outputs": [],
   "source": []
  }
 ],
 "metadata": {
  "kernelspec": {
   "display_name": "Python 3",
   "language": "python",
   "name": "python3"
  },
  "language_info": {
   "codemirror_mode": {
    "name": "ipython",
    "version": 3
   },
   "file_extension": ".py",
   "mimetype": "text/x-python",
   "name": "python",
   "nbconvert_exporter": "python",
   "pygments_lexer": "ipython3",
   "version": "3.9.1"
  },
  "toc": {
   "base_numbering": 1,
   "nav_menu": {},
   "number_sections": true,
   "sideBar": true,
   "skip_h1_title": false,
   "title_cell": "Table of Contents",
   "title_sidebar": "Contents",
   "toc_cell": false,
   "toc_position": {},
   "toc_section_display": true,
   "toc_window_display": false
  },
  "varInspector": {
   "cols": {
    "lenName": 16,
    "lenType": 16,
    "lenVar": 40
   },
   "kernels_config": {
    "python": {
     "delete_cmd_postfix": "",
     "delete_cmd_prefix": "del ",
     "library": "var_list.py",
     "varRefreshCmd": "print(var_dic_list())"
    },
    "r": {
     "delete_cmd_postfix": ") ",
     "delete_cmd_prefix": "rm(",
     "library": "var_list.r",
     "varRefreshCmd": "cat(var_dic_list()) "
    }
   },
   "types_to_exclude": [
    "module",
    "function",
    "builtin_function_or_method",
    "instance",
    "_Feature"
   ],
   "window_display": false
  }
 },
 "nbformat": 4,
 "nbformat_minor": 5
}
