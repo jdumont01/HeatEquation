{
 "cells": [
  {
   "cell_type": "markdown",
   "metadata": {},
   "source": [
    "# Reference - How to integrate $\\int_{a}^{b} cos(ax)cos(bx) dx$\n"
   ]
  },
  {
   "cell_type": "markdown",
   "metadata": {},
   "source": [
    "One approach to solving this type of integral is to start with the Product Rule $$\\frac {d}{dx} (u(x) \\cdot v(x)) = v(x) \\frac {du(x)}{dx} + u(x) \\frac {dv(x)}{dx} .$$\n",
    "\n"
   ]
  },
  {
   "cell_type": "markdown",
   "metadata": {},
   "source": [
    "1.  Start by defining a variable $I = \\int cos(ax)cos(bx) dx$ as these types of integrals repeat during the derivation process."
   ]
  },
  {
   "cell_type": "markdown",
   "metadata": {},
   "source": [
    "2.  Note that $$\\frac {d (sin(ax))}{dx} = a \\cdot cos(ax)$$ or $$cos(ax) = \\frac {1}{a} \\frac {d(sin(ax))}{dx} .$$  \n",
    "\n",
    "This is required to get the integral in the same form as the Product Rule."
   ]
  },
  {
   "cell_type": "markdown",
   "metadata": {},
   "source": [
    "3.  Substitute the equality from #2 into the original integral to get $$I = \\frac{1}{a}\\int_{a}^{b} cos(bx) (\\frac {d(sin(ax))}{dx}){dx}$$"
   ]
  },
  {
   "cell_type": "markdown",
   "metadata": {},
   "source": [
    "4.  Set the following identities to align with the Product Rule terms:\n",
    "$$u(x) = cos(bx) \\to\\ \\frac{d u(x)}{dx} = -b \\cdot sin(bx)$$ and $$\\frac {d (v(x))}{dx} = \\frac {d (sin(ax))}{dx} \\to\\ v(x) = sin(ax)$$"
   ]
  },
  {
   "cell_type": "markdown",
   "metadata": {},
   "source": [
    "5.  Substitute the terms in #4 into the Product Rule and integrate both sides:\n",
    "$$I = \\frac{1}{a}\\int_{a}^{b} cos(bx) (\\frac {d(sin(ax))}{dx}){dx}$$\n",
    "\n",
    "is equivalent to the following in the Product Rule form: \n",
    "\n",
    "$$\\frac {1}{a} \\int \\frac {d}{dx} (u(x) \\cdot v(x)) = \\frac {1}{a} \\int v(x) \\frac {du(x)}{dx} + \\frac {1}{a} \\int u(x) \\frac {dv(x)}{dx}$$\n",
    "\n",
    "becomes\n",
    "\n",
    "$$\\frac {1}{a} cos(bx) sin(ax) = \\frac {1}{a} \\int -b \\cdot sin(bx) sin(ax) dx + \\frac {1}{a} \\int cos(bx) \\frac {d(sin(ax))}{dx}$$"
   ]
  },
  {
   "cell_type": "markdown",
   "metadata": {},
   "source": [
    "6.  Rearrange the terms so that the original integral is isolated:\n",
    "$$\\frac {1}{a} \\int cos(bx) \\frac {d(sin(ax))}{dx} = \\frac {1}{a} cos(bx) sin(ax) + C_1 + \\frac {1}{a} \\int b \\cdot sin(bx) sin(ax) dx $$\n",
    "or\n",
    "$$I = \\frac {1}{a} cos(bx) sin(ax) + C_1 + \\frac {1}{a} \\int b \\cdot sin(bx) sin(ax) dx $$"
   ]
  },
  {
   "cell_type": "markdown",
   "metadata": {},
   "source": [
    "7.  Repeat the previous steps for the integral on the right-hand side using the Product Rule again.  \n",
    "$$\\frac {1}{a} \\int b \\cdot sin(bx) sin(ax) dx $$\n",
    "Notice that \n",
    "$$\\frac {d (-cos(ax))}{dx} = a \\cdot sin(ax)$$ \n",
    "so \n",
    "$$sin(ax) = \\frac {1}{a} \\frac {d(-cos(ax))}{dx}$$\n",
    "and now the integral becomes\n",
    "$$\\frac {1}{a} \\int b \\cdot sin(bx) sin(ax) dx = \\frac {1}{a} \\int b \\cdot sin(bx) \\frac {1}{a} \\frac {d(-cos(ax))}{dx} dx $$"
   ]
  },
  {
   "cell_type": "markdown",
   "metadata": {},
   "source": [
    "8.  Create the following identities\n",
    "$$u(x) = sin(bx) \\to\\ \\frac{d u(x)}{dx} = b \\cdot cos(bx)$$ and $$\\frac {d (v(x))}{dx} = \\frac {-d (cos(ax))}{dx} \\to\\ v(x) = cos(ax)$$"
   ]
  },
  {
   "cell_type": "markdown",
   "metadata": {},
   "source": [
    "9.  Using the Product Rule again \n",
    "$$\\frac {1}{a} \\int b \\cdot sin(bx) sin(ax) dx $$\n",
    "becomes\n",
    "$$-\\frac{1}{a} [ sin(bx) cos(ax) + C_1  - b \\int cos(ax) cos(bx) dx] $$\n",
    "Since $I = \\int cos(ax) cos(bx) dx $ then, \n",
    "$$-\\frac{1}{a} [ sin(bx) cos(ax) + C_1  - b \\int cos(ax) cos(bx) dx] \\rightarrow -\\frac{1}{a} [ sin(bx) cos(ax) - b I  + C_1]$$"
   ]
  },
  {
   "cell_type": "markdown",
   "metadata": {},
   "source": [
    "10. So, from #6, \n",
    "$$I = \\frac {1}{a} cos(bx) sin(ax) + C_1 + \\frac {1}{a} \\int b sin(bx) sin(ax) dx $$\n",
    "is now \n",
    "$$I = \\frac {1}{a}sin(ax) cos(bx) + C_1 + \\frac{b}{a} \\left(- \\frac{1}{a} sin(bx) cos(ax) + \\frac {b}{a} I + C_2 \\right)$$\n",
    "$$I = \\frac {1}{a}sin(ax) cos(bx) - \\frac{b}{a^2} sin(bx) cos(ax) + \\frac {b^2}{a^2} I + C_3$$\n",
    "where ${C_3}$ is the sum of all of the dangling constants."
   ]
  },
  {
   "cell_type": "markdown",
   "metadata": {},
   "source": [
    "11.  Rearrange terms to isolate I\n",
    "$$\\frac{a^2-b^2}{a^2} I = \\frac {1}{a}sin(ax) cos(bx) - \\frac{b}{a^2} sin(bx) cos(ax) + C_3$$\n",
    "or\n",
    "$$I = \\frac{a^2}{a^2-b^2} \\left( \\frac {1}{a}sin(ax) cos(bx) - \\frac{b}{a^2} sin(bx) cos(ax) + C_3 \\right)$$\n",
    "and simplifying\n",
    "$$I = \\frac{a^2}{a^2-b^2} \\left( \\frac {a \\cdot sin(ax) cos(bx) - b \\cdot sin(bx) cos(ax)}{a^2} + C_3 \\right)$$\n",
    "$$I = \\frac{1}{a^2-b^2} \\left(a \\cdot sin(ax) cos(bx) - b \\cdot sin(bx) cos(ax) + C_3 \\right)$$\n",
    "\n",
    "NOTE that $${a^2} \\neq {b^2}$$"
   ]
  },
  {
   "cell_type": "markdown",
   "metadata": {},
   "source": [
    "12.  Use the following trigonmetric identities to simplify the right-hand side further\n",
    "$$cos(a)sin(b) = \\frac{1}{2}sin(a+b) - \\frac{1}{2}sin(a-b)$$\n",
    "$$sin(a)cos(b) = \\frac{1}{2}sin(a+b) + \\frac{1}{2}sin(a-b)$$\n"
   ]
  },
  {
   "cell_type": "markdown",
   "metadata": {},
   "source": [
    "13. Rewrite $a \\cdot sin(ax) cos(bx) - b \\cdot sin(bx) cos(ax)$\n",
    "as follows:\n",
    "$$\\frac{1}{2} a \\cdot sin(a+b)x + \\frac{1}{2}a \\cdot sin(a-b)x +\\frac{1}{2}b \\cdot sin(a+b)x - \\frac{1}{2}b \\cdot sin(a-b)x$$"
   ]
  },
  {
   "cell_type": "markdown",
   "metadata": {},
   "source": [
    "13. rearranging the terms\n",
    "$$\\frac{1}{2} \\left[(a+b) \\cdot sin(a-b)x + (a-b) \\cdot sin(a+b)x \\right)$$\n",
    "and I become\n",
    "$$I = \\frac{1}{a^2 - b^2} \\left(\\frac{1}{2} \\left[(a+b) \\cdot sin(a-b)x + (a-b) \\cdot sin(a+b)x \\right] \\right)$$"
   ]
  },
  {
   "cell_type": "markdown",
   "metadata": {},
   "source": [
    "14. Since ${a^2} - {b^2} = (a-b)(a+b)$\n",
    "$$I = \\frac{sin(a-b)x}{2(a-b)} + \\frac{sin(a+b)x}{2(a+b)}$$"
   ]
  },
  {
   "cell_type": "code",
   "execution_count": null,
   "metadata": {},
   "outputs": [],
   "source": []
  }
 ],
 "metadata": {
  "kernelspec": {
   "display_name": "Python 3",
   "language": "python",
   "name": "python3"
  },
  "language_info": {
   "codemirror_mode": {
    "name": "ipython",
    "version": 3
   },
   "file_extension": ".py",
   "mimetype": "text/x-python",
   "name": "python",
   "nbconvert_exporter": "python",
   "pygments_lexer": "ipython3",
   "version": "3.6.2"
  }
 },
 "nbformat": 4,
 "nbformat_minor": 2
}
