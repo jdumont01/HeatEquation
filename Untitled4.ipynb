{
 "cells": [
  {
   "cell_type": "markdown",
   "id": "6726b8dd",
   "metadata": {},
   "source": [
    "# Calculating u($\\rho$, $\\phi$, t) Using the Finite Difference Method"
   ]
  },
  {
   "cell_type": "markdown",
   "id": "527c7895",
   "metadata": {
    "ExecuteTime": {
     "end_time": "2021-07-09T12:50:53.483713Z",
     "start_time": "2021-07-09T12:50:53.454013Z"
    }
   },
   "source": [
    "The time-dependent diffusion equation can be solved in closed form.  However, it can be a challenge to use an infinite sum etc.  Alternaitvely, there are other methods that can be employed to calculate the temperature at each point on the geometry over time.  One of the methods is called the finite difference method.  This method is based on using the Taylor series expansion of a fuction to calculate each derivative order.\n",
    "\n",
    "Starting with a fucntion f(x), the Taylor series expansion of this function is\n",
    "\\begin{equation}\n",
    "\\begin{split} \n",
    "f(x - x_0) &= f(x_0) + \\frac{df(x_0)}{dx}(x - x_0) + \\frac{1}{2!} \\frac{d^2f(x_0)}{dx^2}(x - x_0) + \\frac{1}{3!} \\frac{d^3f(x_0)}{dx^3}(x - x_0) + \\frac{1}{4!} \\frac{d^4f(x_0)}{dx^4}(x - x_0) + \\cdots \\\\\n",
    "\\text{setting $x - x_0 = \\Delta x } \\\\\n",
    "f(x) &= f(0) + \\frac{df(0)}{dx}(x) + \\frac{1}{2!} \\frac{d^2f(0)}{dx^2}(x) + \\frac{1}{3!} \\frac{d^3f(0)}{dx^3}(x) + \\frac{1}{4!} \\frac{d^4f(0)}{dx^4}(x) + \\cdots \n",
    "\\end{split}\n",
    "\\end{equation}\n",
    "\n",
    "The diffusion equation requires that the first and second-order derivatives are caluculated.  \n",
    "\\begin{equation}\n",
    "\\nabla^2 u(\\rho, \\phi, t)  = \\frac {\\partial u}{\\partial t}\n",
    "\\end{equation}\n",
    "In rectilinear coordinates:\n",
    "\\begin{equation}\n",
    "\\frac {\\partial^2 u}{\\partial x^2} + \\frac {\\partial^2 u}{\\partial y^2} = \\frac {\\partial u}{\\partial t}\n",
    "\\end{equation}\n",
    "\n",
    "and in cyclindrical coordinates:\n",
    "\\begin{equation}\n",
    "\\frac {\\partial^2 u}{\\partial \\rho^2} + \\frac{1}{\\rho} \\frac {\\partial u}{\\partial \\rho} + \n",
    "\\frac{1}{\\rho^2} \\frac {\\partial^2 u}{\\partial \\phi^2} = \\frac {\\partial u}{\\partial t}\n",
    "\\end{equation}\n",
    "\n"
   ]
  },
  {
   "cell_type": "code",
   "execution_count": null,
   "id": "72fb14b6",
   "metadata": {},
   "outputs": [],
   "source": []
  },
  {
   "cell_type": "code",
   "execution_count": null,
   "id": "a65ff7d0",
   "metadata": {},
   "outputs": [],
   "source": []
  }
 ],
 "metadata": {
  "kernelspec": {
   "display_name": "Python 3",
   "language": "python",
   "name": "python3"
  },
  "language_info": {
   "codemirror_mode": {
    "name": "ipython",
    "version": 3
   },
   "file_extension": ".py",
   "mimetype": "text/x-python",
   "name": "python",
   "nbconvert_exporter": "python",
   "pygments_lexer": "ipython3",
   "version": "3.9.1"
  },
  "toc": {
   "base_numbering": 1,
   "nav_menu": {},
   "number_sections": true,
   "sideBar": true,
   "skip_h1_title": false,
   "title_cell": "Table of Contents",
   "title_sidebar": "Contents",
   "toc_cell": false,
   "toc_position": {},
   "toc_section_display": true,
   "toc_window_display": false
  },
  "varInspector": {
   "cols": {
    "lenName": 16,
    "lenType": 16,
    "lenVar": 40
   },
   "kernels_config": {
    "python": {
     "delete_cmd_postfix": "",
     "delete_cmd_prefix": "del ",
     "library": "var_list.py",
     "varRefreshCmd": "print(var_dic_list())"
    },
    "r": {
     "delete_cmd_postfix": ") ",
     "delete_cmd_prefix": "rm(",
     "library": "var_list.r",
     "varRefreshCmd": "cat(var_dic_list()) "
    }
   },
   "types_to_exclude": [
    "module",
    "function",
    "builtin_function_or_method",
    "instance",
    "_Feature"
   ],
   "window_display": false
  }
 },
 "nbformat": 4,
 "nbformat_minor": 5
}
