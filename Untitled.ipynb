{
 "cells": [
  {
   "cell_type": "markdown",
   "metadata": {},
   "source": [
    "# Reference - How to integrate $\\int_{a}^{b} cos(ax)cos(bx) dx$\n"
   ]
  },
  {
   "cell_type": "markdown",
   "metadata": {},
   "source": [
    "One approach to solving this type of integral is to start with the Product Rule $$\\frac {d}{dx} (u(x) v(x)) = v(x) \\frac {du(x)}{dx} + u(x) \\frac {dv(x)}{dx}$$.\n",
    "\n",
    "Let's get started:\n",
    "\n",
    "1.  Pull one of the constants out of one of the cosine terms.  For this example, we will use the variable a:\n",
    "$$\\int_{a}^{b} cos(ax)cos(bx) dx$$\n",
    "\n",
    "2.  Notice that $$\\frac {d (sin(ax))}{dx} = a cos(ax)$$ or $$cos(ax) = \\frac {1}{a} \\frac {d sin(ax)}{dx}$$\n",
    "\n",
    "3.  Substitute the equality in #2 into the original integral to get $$\\frac{1}{a}\\int_{a}^{b} cos(bx) \\frac {d(sin(ax))}{dx}$$\n"
   ]
  },
  {
   "cell_type": "code",
   "execution_count": null,
   "metadata": {},
   "outputs": [],
   "source": []
  }
 ],
 "metadata": {
  "kernelspec": {
   "display_name": "Python 3",
   "language": "python",
   "name": "python3"
  },
  "language_info": {
   "codemirror_mode": {
    "name": "ipython",
    "version": 3
   },
   "file_extension": ".py",
   "mimetype": "text/x-python",
   "name": "python",
   "nbconvert_exporter": "python",
   "pygments_lexer": "ipython3",
   "version": "3.6.2"
  }
 },
 "nbformat": 4,
 "nbformat_minor": 2
}
