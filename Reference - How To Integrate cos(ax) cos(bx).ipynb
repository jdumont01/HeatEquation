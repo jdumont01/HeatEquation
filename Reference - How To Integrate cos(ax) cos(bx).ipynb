{
 "cells": [
  {
   "cell_type": "markdown",
   "metadata": {},
   "source": [
    "# Reference - How to integrate $\\int_{a}^{b} cos(ax)cos(bx) dx$\n"
   ]
  },
  {
   "cell_type": "markdown",
   "metadata": {},
   "source": [
    "One approach to solving this type of integral is to start with the Product Rule $$\\frac {d}{dx} (u(x) v(x)) = v(x) \\frac {du(x)}{dx} + u(x) \\frac {dv(x)}{dx}$$.\n",
    "\n",
    "Let's get started:\n",
    "\n",
    "1.  Pull one of the constants out of one of the cosine terms.  For this example, we will use the variable a:\n",
    "$$I = \\int cos(ax)cos(bx) dx$$\n",
    "\n",
    "2.  Notice that $$\\frac {d (sin(ax))}{dx} = a cos(ax)$$ or $$cos(ax) = \\frac {1}{a} \\frac {d(sin(ax))}{dx}$$\n",
    "\n",
    "3.  Substitute the equality in #2 into the original integral to get $$\\frac{1}{a}\\int_{a}^{b} cos(bx) (\\frac {d(sin(ax))}{dx}){dx}$$\n",
    "\n",
    "4.  Set $$u(x) = cos(bx) \\to\\ \\frac{d u(x)}{dx} = -b sin(bx)$$ and $$\\frac {d (v(x))}{dx} = \\frac {d (sin(ax))}{dx} \\to\\ v(x) = sin(ax)$$\n",
    "\n",
    "5.  Make the necessary subsitutions into the Product Rule and integrate both sides:\n",
    "So\n",
    "$$\\frac{1}{a}\\int_{a}^{b} cos(bx) (\\frac {d(sin(ax))}{dx}){dx}$$\n",
    "with the following \n",
    "$$\\frac {1}{a} \\int \\frac {d}{dx} (u(x) v(x)) = \\frac {1}{a} \\int v(x) \\frac {du(x)}{dx} + \\frac {1}{a} \\int u(x) \\frac {dv(x)}{dx}$$\n",
    "becomes\n",
    "$$\\frac {1}{a} cos(bx) sin(ax) = \\frac {1}{a} \\int -b sin(bx) sin(ax) dx + \\frac {1}{a} \\int cos(bx) \\frac {d(sin(ax))}{dx}$$\n",
    "\n",
    "6.  Rearrange the terms so that the original integral is isolated:\n",
    "$$\\frac {1}{a} \\int cos(bx) \\frac {d(sin(ax))}{dx} = \\frac {1}{a} cos(bx) sin(ax) + \\frac {1}{a} \\int b sin(bx) sin(ax) dx $$\n",
    "or\n",
    "$$I = \\frac {1}{a} cos(bx) sin(ax) + \\frac {1}{a} \\int b sin(bx) sin(ax) dx $$\n",
    "\n",
    "7.  Repeat the previous steps for the integral on the right-hand side using the Product Rule again.  \n",
    "$$\\frac {1}{a} \\int b sin(bx) sin(ax) dx $$\n",
    "Notice that $$\\frac {d (sin(ax))}{dx} = a sin(ax)$$ or $$a sin(ax) = \\frac {1}{a} \\frac {d(-cos(ax))}{dx}$$\n",
    "Or\n",
    "$$\\frac {1}{a} \\int b sin(bx) sin(ax) dx = \\frac {1}{a} \\int b sin(bx) \\frac {1}{a} \\frac {d(-cos(ax))}{dx} dx $$\n",
    "Create the following identities\n",
    "$$u(x) = sin(bx) \\to\\ \\frac{d u(x)}{dx} = b cos(bx)$$ and $$\\frac {d (v(x))}{dx} = \\frac {-d (cos(ax))}{dx} \\to\\ v(x) = cos(ax)$$\n",
    "\n",
    "Using the Product Rule again $\\frac {1}{a} \\int b \\cdot sin(bx) sin(ax) dx $\n",
    "becomes\n",
    "$$-\\frac{1}{a} [ sin(bx) cos(ax) - b \\int cos(ax) cos(bx) dx] $$\n",
    "Since $I = \\int cos(ax) cos(bx) dx $\n",
    "Then \n",
    "$$-\\frac{1}{a} [ sin(bx) cos(ax) - b I ]$$\n",
    "\n",
    "8. So,\n",
    "$$I = \\frac {1}{a} cos(bx) sin(ax) + \\frac {1}{a} \\int b sin(bx) sin(ax) dx $$\n",
    "is now \n",
    "$$I = \\frac {1}{a}sin(ax) cos(bx) + \\frac{b}{a} \\left(- \\frac{1}{a} sin(bx) cos(ax) + \\frac {b}{a} I + C_2 \\right)$$\n",
    "$$I = \\frac {1}{a}sin(ax) cos(bx) - \\frac{b}{a^2} sin(bx) cos(ax) + \\frac {b^2}{a^2} I + C_2$$\n",
    "\n",
    "9.  Rearrange terms to isolate I\n",
    "$$\\frac{a^2-b^2}{a^2} I = \\frac {1}{a}sin(ax) cos(bx) - \\frac{b}{a^2} sin(bx) cos(ax) + C_2$$\n",
    "or\n",
    "$$I = \\frac{a^2}{a^2-b^2} \\left( \\frac {1}{a}sin(ax) cos(bx) - \\frac{b}{a^2} sin(bx) cos(ax) + C_2 \\right)$$\n",
    "and simplifying\n",
    "$$I = \\frac{a^2}{a^2-b^2} \\left( \\frac {a \\cdot sin(ax) cos(bx) - b \\cdot sin(bx) cos(ax)}{a^2} + C_2 \\right)$$\n",
    "$$I = \\frac{1}{a^2-b^2} \\left(a \\cdot sin(ax) cos(bx) - b \\cdot sin(bx) cos(ax) + C_2 \\right)$$\n",
    "\n",
    "NOTE that $${a^2} \\neq {b^2}$$\n",
    "\n",
    "10.  Use the following trigonmetric identities to simplify the right-hand side further\n",
    "$$cos(a)sin(b) = \\frac{1}{2}sin(a+b) - \\frac{1}{2}sin(a-b)$$\n",
    "$$sin(a)cos(b) = \\frac{1}{2}sin(a+b) + \\frac{1}{2}sin(a-b)$$\n",
    "\n",
    "11. $a \\cdot sin(ax) cos(bx) - b \\cdot sin(bx) cos(ax)$\n",
    "can be written as follows:\n",
    "$$\\frac{1}{2} a \\cdot sin(a+b)x + \\frac{1}{2}a \\cdot sin(a-b)x +\\frac{1}{2}b \\cdot sin(a+b)x - \\frac{1}{2}b \\cdot sin(a-b)x$$\n",
    "\n",
    "12. rearranging the terms\n",
    "$$\\frac{1}{2} \\left[(a+b) \\cdot sin(a-b)x + (a-b) \\cdot sin(a+b)x \\right)$$\n",
    "and I become\n",
    "$$I = \\frac{1}{a^2 - b^2} \\left(\\frac{1}{2} \\left[(a+b) \\cdot sin(a-b)x + (a-b) \\cdot sin(a+b)x \\right] \\right)$$\n",
    "\n",
    "13. Since ${a^2} - {b^2} = (a-b)(a+b)$\n",
    "$$I = \\frac{sin(a-b)x}{2(a-b)} + \\frac{sin(a+b)x}{2(a+b)}$$"
   ]
  },
  {
   "cell_type": "code",
   "execution_count": null,
   "metadata": {},
   "outputs": [],
   "source": []
  }
 ],
 "metadata": {
  "kernelspec": {
   "display_name": "Python 3",
   "language": "python",
   "name": "python3"
  },
  "language_info": {
   "codemirror_mode": {
    "name": "ipython",
    "version": 3
   },
   "file_extension": ".py",
   "mimetype": "text/x-python",
   "name": "python",
   "nbconvert_exporter": "python",
   "pygments_lexer": "ipython3",
   "version": "3.6.2"
  }
 },
 "nbformat": 4,
 "nbformat_minor": 2
}
