{
 "cells": [
  {
   "cell_type": "markdown",
   "id": "2ca33180",
   "metadata": {
    "ExecuteTime": {
     "end_time": "2021-06-09T23:45:34.616014Z",
     "start_time": "2021-06-09T23:45:34.607098Z"
    }
   },
   "source": [
    "# Separation of Variables Cylindral Coordinates"
   ]
  },
  {
   "cell_type": "markdown",
   "id": "a1a489d2",
   "metadata": {},
   "source": [
    "We will start with the general time-dependent diffusion equation\n",
    "\\begin{equation}\n",
    "\\nabla^2 u(\\rho, \\phi, t)  = \\frac {\\partial u}{\\partial t}\n",
    "\\end{equation}\n",
    "in Cyclindrical Coordinates\n",
    "\\begin{equation}\n",
    "\\frac {\\partial^2 u}{\\partial \\rho^2} + \\frac{1}{\\rho} \\frac {\\partial u}{\\partial \\rho} + \n",
    "\\frac{1}{\\rho^2} \\frac {\\partial^2 u}{\\partial \\phi^2} = \\frac {\\partial u}{\\partial t}\n",
    "\\end{equation}\n",
    "\n",
    "The radius of the disk will be a.\n",
    "\n",
    "The boundary conditions are\n",
    "$u(a, \\phi, t) = constant $\n",
    "$u(\\rho, 0, t) = u(\\rho, 0 + 2 \\pi, t)$\n",
    "\n",
    "Leveraging the Separation of Variables (SOR) approach, we will assume that there is a solution that is the product of 3 functions, each independent in the 3 variables $\\rho, \\phi$ and t.  This means\n",
    "$u(\\rho, \\phi, t) = R(\\rho) \\Phi(\\phi) T(t) $\n",
    "\n",
    "\n"
   ]
  },
  {
   "cell_type": "code",
   "execution_count": null,
   "id": "034fcaa7",
   "metadata": {},
   "outputs": [],
   "source": []
  },
  {
   "cell_type": "code",
   "execution_count": null,
   "id": "27e2e59a",
   "metadata": {},
   "outputs": [],
   "source": []
  }
 ],
 "metadata": {
  "kernelspec": {
   "display_name": "Python 3",
   "language": "python",
   "name": "python3"
  },
  "language_info": {
   "codemirror_mode": {
    "name": "ipython",
    "version": 3
   },
   "file_extension": ".py",
   "mimetype": "text/x-python",
   "name": "python",
   "nbconvert_exporter": "python",
   "pygments_lexer": "ipython3",
   "version": "3.9.1"
  },
  "toc": {
   "base_numbering": 1,
   "nav_menu": {},
   "number_sections": true,
   "sideBar": true,
   "skip_h1_title": false,
   "title_cell": "Table of Contents",
   "title_sidebar": "Contents",
   "toc_cell": false,
   "toc_position": {},
   "toc_section_display": true,
   "toc_window_display": false
  },
  "varInspector": {
   "cols": {
    "lenName": 16,
    "lenType": 16,
    "lenVar": 40
   },
   "kernels_config": {
    "python": {
     "delete_cmd_postfix": "",
     "delete_cmd_prefix": "del ",
     "library": "var_list.py",
     "varRefreshCmd": "print(var_dic_list())"
    },
    "r": {
     "delete_cmd_postfix": ") ",
     "delete_cmd_prefix": "rm(",
     "library": "var_list.r",
     "varRefreshCmd": "cat(var_dic_list()) "
    }
   },
   "types_to_exclude": [
    "module",
    "function",
    "builtin_function_or_method",
    "instance",
    "_Feature"
   ],
   "window_display": false
  }
 },
 "nbformat": 4,
 "nbformat_minor": 5
}
